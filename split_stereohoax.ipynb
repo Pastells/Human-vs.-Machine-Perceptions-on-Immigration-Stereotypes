{
 "cells": [
  {
   "cell_type": "code",
   "execution_count": null,
   "id": "5ad173a6",
   "metadata": {},
   "outputs": [],
   "source": [
    "import sys\n",
    "\n",
    "import numpy as np\n",
    "import pandas as pd\n",
    "\n",
    "from utils.split import eval_splits, get_all_combs, get_valid_tests"
   ]
  },
  {
   "cell_type": "markdown",
   "id": "7c40f1ad",
   "metadata": {},
   "source": [
    "## Split"
   ]
  },
  {
   "cell_type": "markdown",
   "id": "285d7ed7",
   "metadata": {},
   "source": [
    "1. Find combination of hoaxes that reach 70%, 20% and 10% of the data.\n",
    "2. Find which combination has the most similar topic distribution to the original data\n",
    "\n",
    "The splits are the following:\n",
    "+ Train_val - 80%  = Train + val\n",
    "    + Train - 70%\n",
    "    + Val - 10%\n",
    "+ Test - 20%\n",
    "\n",
    "We obtain the following split:\n",
    "+ Test: 'SP057', 'SP015', 'SP049', 'SP047', 'SP010', 'SP014', 'SP009', 'SP027', 'SP040', 'SP020', 'SP023', 'SP008', 'SP031'\n",
    "+ Val: 'SP005', 'SP065', 'SP052', 'SP055', 'SP068'\n",
    "+ Train: 'SP003', 'SP013', 'SP064', 'SP054', 'SP070', 'SP017', 'SP067', 'SP043', 'SP036', 'SP048'\n"
   ]
  },
  {
   "cell_type": "code",
   "execution_count": null,
   "id": "bf9c5cfd",
   "metadata": {},
   "outputs": [],
   "source": [
    "st = pd.read_csv(\"data/stereohoax/stereoHoax-ES_goldstandard.csv\")\n",
    "st_soft = pd.read_csv(\"data/stereohoax/stereohoax_unaggregated.csv\")\n",
    "st = st.merge(st_soft[[\"index\", \"stereo_a1\", \"stereo_a2\", \"stereo_a3\"]], on=\"index\", how=\"left\")\n",
    "\n",
    "labels = [\n",
    "    \"xenophobia\",\n",
    "    \"suffering\",\n",
    "    \"economic\",\n",
    "    \"migration\",\n",
    "    \"culture\",\n",
    "    \"benefits\",\n",
    "    \"health\",\n",
    "    \"security\",\n",
    "    \"dehumanisation\",\n",
    "    \"others\",\n",
    "]\n",
    "labels_groups = labels + [\"implicit\", \"contextual\"]\n",
    "y_columns = [\"stereo\"] + labels\n",
    "# st = st[[\"index\", \"rh_id\", \"conversation_id\"] + labels]"
   ]
  },
  {
   "cell_type": "code",
   "execution_count": null,
   "id": "77d1c7b2",
   "metadata": {},
   "outputs": [],
   "source": [
    "print(f'The number of distinct hoaxes is {st[\"rh_id\"].nunique()}')\n",
    "hoaxes = st[\"rh_id\"].unique()\n",
    "hoaxes"
   ]
  },
  {
   "cell_type": "code",
   "execution_count": null,
   "id": "cca5a673",
   "metadata": {},
   "outputs": [],
   "source": [
    "print(f\"The category distribution of the data in general is: \\n\")\n",
    "gen_dist = st[labels_groups].apply(pd.Series.value_counts)\n",
    "gen_dist"
   ]
  },
  {
   "cell_type": "code",
   "execution_count": null,
   "id": "fd245c3d",
   "metadata": {},
   "outputs": [],
   "source": [
    "gen_dist *= 100 / len(st)\n",
    "gen_dist.round(2)"
   ]
  },
  {
   "cell_type": "markdown",
   "id": "c1862277",
   "metadata": {},
   "source": [
    "1. Find combination of hoaxes that reach 20% of the data\n",
    "2. Find which of these combinations has the most similar topic distribution\n",
    "\n",
    "To avoid looking at over 4 million combinations, we don't consider the 6 hoaxes with least tweets (total of 14) for this process.\n",
    "We add these 14 tweets at the end"
   ]
  },
  {
   "cell_type": "code",
   "execution_count": null,
   "id": "3bcb5af0",
   "metadata": {},
   "outputs": [],
   "source": [
    "file_sz = st.groupby(\"rh_id\").size().sort_values()\n",
    "file_sz[:6], file_sz[6:]"
   ]
  },
  {
   "cell_type": "code",
   "execution_count": null,
   "id": "7ba73ecf",
   "metadata": {},
   "outputs": [],
   "source": [
    "valid_splits = get_all_combs(file_sz[6:], test_ratio=0.2, eps=0.01)"
   ]
  },
  {
   "cell_type": "code",
   "execution_count": null,
   "id": "58ad60d1",
   "metadata": {},
   "outputs": [],
   "source": [
    "valid_splits2 = [split[0] for split in valid_splits]\n",
    "res = eval_splits(st, valid_splits2, \"rh_id\", labels)"
   ]
  },
  {
   "cell_type": "markdown",
   "id": "b8c76a92",
   "metadata": {},
   "source": [
    "Sort results by MSE and MAPE"
   ]
  },
  {
   "cell_type": "code",
   "execution_count": null,
   "id": "f24a3e6f",
   "metadata": {},
   "outputs": [],
   "source": [
    "res.sort_values(by=\"MSE\").head()"
   ]
  },
  {
   "cell_type": "code",
   "execution_count": null,
   "id": "0b2e1dc1",
   "metadata": {},
   "outputs": [],
   "source": [
    "res.sort_values(by=\"MAPE\").head()"
   ]
  },
  {
   "cell_type": "markdown",
   "id": "81287d44",
   "metadata": {},
   "source": [
    "We keep the one with lower MAPE"
   ]
  },
  {
   "cell_type": "code",
   "execution_count": null,
   "id": "5c4fbd76",
   "metadata": {},
   "outputs": [],
   "source": [
    "fs, n_samples = valid_splits[530]\n",
    "print(fs)\n",
    "print(f\"Test percentage= {n_samples / len(st) * 100:.2f}\")"
   ]
  },
  {
   "cell_type": "code",
   "execution_count": null,
   "id": "2baf7573",
   "metadata": {},
   "outputs": [],
   "source": [
    "test_split = list(fs)\n",
    "test = st[st.rh_id.isin(test_split)]\n",
    "train_val = st[~st.rh_id.isin(test_split)]"
   ]
  },
  {
   "cell_type": "markdown",
   "id": "bfd83dd0",
   "metadata": {},
   "source": [
    "### Validation split"
   ]
  },
  {
   "cell_type": "code",
   "execution_count": null,
   "id": "f9ee57a1",
   "metadata": {},
   "outputs": [],
   "source": [
    "file_sz = train_val.groupby(\"rh_id\").size().sort_values()\n",
    "valid_splits_val = get_all_combs(file_sz, test_ratio=0.125, eps=0.01)"
   ]
  },
  {
   "cell_type": "code",
   "execution_count": null,
   "id": "b3312ef9",
   "metadata": {},
   "outputs": [],
   "source": [
    "valid_splits_val2 = [split[0] for split in valid_splits_val]\n",
    "res_val = eval_splits(train_val, valid_splits_val2, \"rh_id\", labels)"
   ]
  },
  {
   "cell_type": "code",
   "execution_count": null,
   "id": "7c029c6a",
   "metadata": {},
   "outputs": [],
   "source": [
    "res_val.sort_values(by=\"MSE\").head()"
   ]
  },
  {
   "cell_type": "code",
   "execution_count": null,
   "id": "bca44c7f",
   "metadata": {},
   "outputs": [],
   "source": [
    "res_val.sort_values(by=\"MAPE\").head()"
   ]
  },
  {
   "cell_type": "code",
   "execution_count": null,
   "id": "a05d1119",
   "metadata": {},
   "outputs": [],
   "source": [
    "fs_val, n_samples = valid_splits_val[380]\n",
    "print(fs_val)\n",
    "print(f\"Val percentage of whole data = {n_samples / len(st) * 100:.1f}\")\n",
    "print(f\"Val percentage of train = {n_samples / len(train_val) * 100:.1f}\")"
   ]
  },
  {
   "cell_type": "code",
   "execution_count": null,
   "id": "7d4c7237",
   "metadata": {},
   "outputs": [],
   "source": [
    "val_split = list(fs_val)\n",
    "val = st[st.rh_id.isin(val_split)]\n",
    "train = st[~st.rh_id.isin(test_split + val_split)]"
   ]
  },
  {
   "cell_type": "code",
   "execution_count": null,
   "id": "0d9a433b",
   "metadata": {},
   "outputs": [],
   "source": [
    "train_val.to_csv(\"data/stereohoax/train_val_split.csv\", index=False)\n",
    "test.to_csv(\"data/stereohoax/test_split.csv\", index=False)\n",
    "val.to_csv(\"data/stereohoax/val_split.csv\", index=False)\n",
    "train.to_csv(\"data/stereohoax/train_split.csv\", index=False)"
   ]
  },
  {
   "cell_type": "markdown",
   "id": "f6f0b491",
   "metadata": {},
   "source": [
    "## Analysis"
   ]
  },
  {
   "cell_type": "code",
   "execution_count": null,
   "id": "e216dd01",
   "metadata": {},
   "outputs": [],
   "source": [
    "fs = {\n",
    "    \"SP057\",\n",
    "    \"SP015\",\n",
    "    \"SP049\",\n",
    "    \"SP047\",\n",
    "    \"SP010\",\n",
    "    \"SP014\",\n",
    "    \"SP009\",\n",
    "    \"SP027\",\n",
    "    \"SP040\",\n",
    "    \"SP020\",\n",
    "    \"SP023\",\n",
    "    \"SP008\",\n",
    "    \"SP031\",\n",
    "}"
   ]
  },
  {
   "cell_type": "code",
   "execution_count": null,
   "id": "14e11943",
   "metadata": {},
   "outputs": [],
   "source": [
    "fs_val = {\"SP005\", \"SP065\", \"SP052\", \"SP055\", \"SP068\"}"
   ]
  },
  {
   "cell_type": "code",
   "execution_count": null,
   "id": "974a682f",
   "metadata": {},
   "outputs": [],
   "source": [
    "test[labels_groups].apply(pd.Series.value_counts) / len(test) * 100"
   ]
  },
  {
   "cell_type": "code",
   "execution_count": null,
   "id": "ef618487",
   "metadata": {},
   "outputs": [],
   "source": [
    "train[labels_groups].apply(pd.Series.value_counts) / len(train) * 100"
   ]
  },
  {
   "cell_type": "code",
   "execution_count": null,
   "id": "f135a0f9",
   "metadata": {},
   "outputs": [],
   "source": [
    "train_val[labels_groups].apply(pd.Series.value_counts) / len(train) * 100"
   ]
  },
  {
   "cell_type": "code",
   "execution_count": null,
   "id": "44f5be37",
   "metadata": {},
   "outputs": [],
   "source": [
    "val[labels_groups].apply(pd.Series.value_counts) / len(train) * 100"
   ]
  },
  {
   "cell_type": "code",
   "execution_count": null,
   "id": "c1b19bb7",
   "metadata": {},
   "outputs": [],
   "source": [
    "val.stereo.sum() / len(val)"
   ]
  },
  {
   "cell_type": "code",
   "execution_count": null,
   "id": "aaddb421",
   "metadata": {},
   "outputs": [],
   "source": [
    "fs.union(fs_val)"
   ]
  },
  {
   "cell_type": "code",
   "execution_count": null,
   "id": "c34d0a68",
   "metadata": {},
   "outputs": [],
   "source": [
    "file_sz = st.groupby(\"rh_id\").size().sort_values()\n",
    "fs_test = fs\n",
    "fs_train_val = set(file_sz.keys()) - fs_test\n",
    "fs_train_val = set(file_sz.keys()) - fs - fs_val\n",
    "fs_train = fs_train_val - fs_val\n",
    "\n",
    "a = 0\n",
    "for f_list in (fs_train, fs_val, fs_test):\n",
    "    ds = file_sz[list(f_list)].copy()\n",
    "    ds[\"sum\"] = ds.sum()\n",
    "    a += ds.sum()\n",
    "    ds = ds / file_sz.sum() * 100\n",
    "    print(list(ds.round(2).items()))\n",
    "    print(ds.round(2))\n",
    "\n",
    "print(\"final\")\n",
    "print(a, file_sz.sum())"
   ]
  }
 ],
 "metadata": {
  "jupytext": {
   "formats": "ipynb,py:percent"
  },
  "kernelspec": {
   "display_name": "Python 3 (ipykernel)",
   "language": "python",
   "name": "python3"
  },
  "language_info": {
   "codemirror_mode": {
    "name": "ipython",
    "version": 3
   },
   "file_extension": ".py",
   "mimetype": "text/x-python",
   "name": "python",
   "nbconvert_exporter": "python",
   "pygments_lexer": "ipython3",
   "version": "3.10.12"
  }
 },
 "nbformat": 4,
 "nbformat_minor": 5
}
